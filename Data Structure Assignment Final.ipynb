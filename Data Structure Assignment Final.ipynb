{
 "cells": [
  {
   "cell_type": "markdown",
   "metadata": {},
   "source": [
    "## Problem Statement:"
   ]
  },
  {
   "cell_type": "markdown",
   "metadata": {},
   "source": [
    "🎓🎓 Analytics Vidhya conducted an assessment test to hire a Data Scientist. The\n",
    "candidates were evaluated on 5 different subjects A, B, C, D, and E. The marks of\n",
    "5 different subjects out of 100 are given below. Help Analytics Vidhya to find out\n",
    "the answers of the following questions."
   ]
  },
  {
   "cell_type": "markdown",
   "metadata": {},
   "source": [
    "### Who scored the highest marks in the subject B?"
   ]
  },
  {
   "cell_type": "code",
   "execution_count": 1,
   "metadata": {},
   "outputs": [],
   "source": [
    "# student marks\n",
    "student_marks = [['Name',  ['A','B','C','D','E']],\n",
    "                 ['Ankit',  [41, 34, 45, 55, 63]],\n",
    "                 ['Aravind',[42, 23, 34, 44, 53]],\n",
    "                 ['Lakshay',[32, 23, 13, 54, 67]],\n",
    "                 ['Gyan',   [23, 82, 23, 63, 34]],\n",
    "                 ['Pranav', [21, 23, 25, 56, 56]]\n",
    "                ]"
   ]
  },
  {
   "cell_type": "code",
   "execution_count": 2,
   "metadata": {},
   "outputs": [
    {
     "name": "stdout",
     "output_type": "stream",
     "text": [
      "Ankit 34\n",
      "Aravind 23\n",
      "Lakshay 23\n",
      "Gyan 82\n",
      "Pranav 23\n"
     ]
    }
   ],
   "source": [
    "for student in student_marks[1:]:\n",
    "    name = student[0]\n",
    "    mark_in_b = student[1][1]\n",
    "    print(name,mark_in_b)"
   ]
  },
  {
   "cell_type": "code",
   "execution_count": 3,
   "metadata": {},
   "outputs": [],
   "source": [
    "#creating a new list to store the mark in subject b\n",
    "student_mark_in_b = []\n",
    "for student in student_marks[1:]:\n",
    "    name = student[0]\n",
    "    mark_in_b = student[1][1]\n",
    "    student_mark_in_b.append([mark_in_b,name])"
   ]
  },
  {
   "cell_type": "code",
   "execution_count": 4,
   "metadata": {},
   "outputs": [
    {
     "data": {
      "text/plain": [
       "[[34, 'Ankit'], [23, 'Aravind'], [23, 'Lakshay'], [82, 'Gyan'], [23, 'Pranav']]"
      ]
     },
     "execution_count": 4,
     "metadata": {},
     "output_type": "execute_result"
    }
   ],
   "source": [
    "#the list of students marks in subject b\n",
    "student_mark_in_b"
   ]
  },
  {
   "cell_type": "code",
   "execution_count": 5,
   "metadata": {},
   "outputs": [
    {
     "data": {
      "text/plain": [
       "[[23, 'Aravind'], [23, 'Lakshay'], [23, 'Pranav'], [34, 'Ankit'], [82, 'Gyan']]"
      ]
     },
     "execution_count": 5,
     "metadata": {},
     "output_type": "execute_result"
    }
   ],
   "source": [
    "#sorting the list so that we can find the highest scored marks\n",
    "sorted(student_mark_in_b)"
   ]
  },
  {
   "cell_type": "code",
   "execution_count": 6,
   "metadata": {},
   "outputs": [
    {
     "data": {
      "text/plain": [
       "'Gyan'"
      ]
     },
     "execution_count": 6,
     "metadata": {},
     "output_type": "execute_result"
    }
   ],
   "source": [
    "#The name who Scored highest in subject B\n",
    "sorted(student_mark_in_b)[-1][1]"
   ]
  },
  {
   "cell_type": "markdown",
   "metadata": {},
   "source": [
    "### What is the average marks scored in the subject C?"
   ]
  },
  {
   "cell_type": "code",
   "execution_count": 7,
   "metadata": {},
   "outputs": [],
   "source": [
    "# student marks\n",
    "student_marks = [['Name',  ['A','B','C','D','E']],\n",
    "                 ['Ankit',  [41, 34, 45, 55, 63]],\n",
    "                 ['Aravind',[42, 23, 34, 44, 53]],\n",
    "                 ['Lakshay',[32, 23, 13, 54, 67]],\n",
    "                 ['Gyan',   [23, 82, 23, 63, 34]],\n",
    "                 ['Pranav', [21, 23, 25, 56, 56]]\n",
    "                ]"
   ]
  },
  {
   "cell_type": "code",
   "execution_count": 8,
   "metadata": {},
   "outputs": [
    {
     "name": "stdout",
     "output_type": "stream",
     "text": [
      "45\n",
      "34\n",
      "13\n",
      "23\n",
      "25\n"
     ]
    }
   ],
   "source": [
    "#printing all the marks in subject c to find the average\n",
    "for student in student_marks[1:]:\n",
    "    mark_in_c = student[1][2]\n",
    "    print(mark_in_c)"
   ]
  },
  {
   "cell_type": "code",
   "execution_count": 9,
   "metadata": {},
   "outputs": [],
   "source": [
    "#creating a new list to store the marks of subject c\n",
    "student_mark_in_c = []\n",
    "for student in student_marks[1:]:\n",
    "    mark_in_c = student[1][2]\n",
    "    student_mark_in_c.append([mark_in_c])"
   ]
  },
  {
   "cell_type": "code",
   "execution_count": 10,
   "metadata": {},
   "outputs": [
    {
     "data": {
      "text/plain": [
       "[[45], [34], [13], [23], [25]]"
      ]
     },
     "execution_count": 10,
     "metadata": {},
     "output_type": "execute_result"
    }
   ],
   "source": [
    "#the mark of subject c in a list\n",
    "student_mark_in_c"
   ]
  },
  {
   "cell_type": "code",
   "execution_count": 11,
   "metadata": {},
   "outputs": [],
   "source": [
    "#applying average formula in a nested for loop\n",
    "list_c = [x for t in student_mark_in_c for x in t]\n",
    "avg = sum(list_c) / len(list_c)"
   ]
  },
  {
   "cell_type": "code",
   "execution_count": 12,
   "metadata": {},
   "outputs": [
    {
     "name": "stdout",
     "output_type": "stream",
     "text": [
      "28\n"
     ]
    }
   ],
   "source": [
    "#Average mark in subject c after converting from float to integer\n",
    "print(int(avg))"
   ]
  },
  {
   "cell_type": "markdown",
   "metadata": {},
   "source": [
    "### Who scored the highest percentage of marks?"
   ]
  },
  {
   "cell_type": "code",
   "execution_count": 13,
   "metadata": {},
   "outputs": [],
   "source": [
    "# student marks\n",
    "student_marks = [['Name',  ['A','B','C','D','E']],\n",
    "                 ['Ankit',  [41, 34, 45, 55, 63]],\n",
    "                 ['Aravind',[42, 23, 34, 44, 53]],\n",
    "                 ['Lakshay',[32, 23, 13, 54, 67]],\n",
    "                 ['Gyan',   [23, 82, 23, 63, 34]],\n",
    "                 ['Pranav', [21, 23, 25, 56, 56]]\n",
    "                ]"
   ]
  },
  {
   "cell_type": "code",
   "execution_count": 14,
   "metadata": {},
   "outputs": [
    {
     "name": "stdout",
     "output_type": "stream",
     "text": [
      "Ankit 41 34 45 55 63\n",
      "Aravind 42 23 34 44 53\n",
      "Lakshay 32 23 13 54 67\n",
      "Gyan 23 82 23 63 34\n",
      "Pranav 21 23 25 56 56\n"
     ]
    }
   ],
   "source": [
    "#printing the marks of all subject to find the highest percentage of marks\n",
    "for student in student_marks[1:]:\n",
    "    name = student[0]\n",
    "    mark_in_a = student[1][0]\n",
    "    mark_in_b = student[1][1]\n",
    "    mark_in_c = student[1][2]\n",
    "    mark_in_d = student[1][3]\n",
    "    mark_in_e = student[1][4]\n",
    "    print(name, mark_in_a, mark_in_b, mark_in_c, mark_in_d, mark_in_e)"
   ]
  },
  {
   "cell_type": "code",
   "execution_count": 15,
   "metadata": {},
   "outputs": [],
   "source": [
    "#creating a list to store all the marks of all the candidates\n",
    "student_marks_in_all = []\n",
    "for student in student_marks[1:]:\n",
    "    name = student[0]\n",
    "    mark_in_a = student[1][0]\n",
    "    mark_in_b = student[1][1]\n",
    "    mark_in_c = student[1][2]\n",
    "    mark_in_d = student[1][3]\n",
    "    mark_in_e = student[1][4]\n",
    "    student_marks_in_all.append([[name], [mark_in_a, mark_in_b, mark_in_c, mark_in_d, mark_in_e]])"
   ]
  },
  {
   "cell_type": "code",
   "execution_count": 16,
   "metadata": {},
   "outputs": [
    {
     "data": {
      "text/plain": [
       "[[['Ankit'], [41, 34, 45, 55, 63]],\n",
       " [['Aravind'], [42, 23, 34, 44, 53]],\n",
       " [['Lakshay'], [32, 23, 13, 54, 67]],\n",
       " [['Gyan'], [23, 82, 23, 63, 34]],\n",
       " [['Pranav'], [21, 23, 25, 56, 56]]]"
      ]
     },
     "execution_count": 16,
     "metadata": {},
     "output_type": "execute_result"
    }
   ],
   "source": [
    "student_marks_in_all"
   ]
  },
  {
   "cell_type": "code",
   "execution_count": 17,
   "metadata": {},
   "outputs": [],
   "source": [
    "#applying the percentage formula and storing the value in a new list\n",
    "student_marks_in_per = []\n",
    "for studentper in student_marks_in_all[0:]:\n",
    "    name = studentper[0]\n",
    "    per = sum(studentper[1]) / 500*100\n",
    "    \n",
    "    student_marks_in_per.append([per,name])"
   ]
  },
  {
   "cell_type": "code",
   "execution_count": 18,
   "metadata": {},
   "outputs": [
    {
     "data": {
      "text/plain": [
       "['Ankit']"
      ]
     },
     "execution_count": 18,
     "metadata": {},
     "output_type": "execute_result"
    }
   ],
   "source": [
    "#printing the name who scored highest percentage of marks\n",
    "sorted(student_marks_in_per)[-1][1]"
   ]
  },
  {
   "cell_type": "markdown",
   "metadata": {},
   "source": [
    "### If considered only top-4 subjects of a candidate, then who scored the highest percentage of marks?"
   ]
  },
  {
   "cell_type": "code",
   "execution_count": 19,
   "metadata": {},
   "outputs": [],
   "source": [
    "# student marks\n",
    "student_marks = [['Name',  ['A','B','C','D','E']],\n",
    "                 ['Ankit',  [41, 34, 45, 55, 63]],\n",
    "                 ['Aravind',[42, 23, 34, 44, 53]],\n",
    "                 ['Lakshay',[32, 23, 13, 54, 67]],\n",
    "                 ['Gyan',   [23, 82, 23, 63, 34]],\n",
    "                 ['Pranav', [21, 23, 25, 56, 56]]\n",
    "                ]"
   ]
  },
  {
   "cell_type": "code",
   "execution_count": 20,
   "metadata": {},
   "outputs": [
    {
     "name": "stdout",
     "output_type": "stream",
     "text": [
      "Ankit 41 34 45 55 63\n",
      "Aravind 42 23 34 44 53\n",
      "Lakshay 32 23 13 54 67\n",
      "Gyan 23 82 23 63 34\n",
      "Pranav 21 23 25 56 56\n"
     ]
    }
   ],
   "source": [
    "#printing the marks of all students\n",
    "for student in student_marks[1:]:\n",
    "    name = student[0]\n",
    "    mark_in_a = student[1][0]\n",
    "    mark_in_b = student[1][1]\n",
    "    mark_in_c = student[1][2]\n",
    "    mark_in_d = student[1][3]\n",
    "    mark_in_e = student[1][4]\n",
    "    print(name, mark_in_a, mark_in_b, mark_in_c, mark_in_d, mark_in_e)"
   ]
  },
  {
   "cell_type": "code",
   "execution_count": 21,
   "metadata": {},
   "outputs": [],
   "source": [
    "#as per the question we need to consider top-4 subjects, here we are creating a new list and storing the top-4 subjects\n",
    "student_marks_in_all = []\n",
    "for student in student_marks[1:]:\n",
    "    name = student[0]\n",
    "    mark_in_a = student[1][0]\n",
    "    mark_in_b = student[1][1]\n",
    "    mark_in_c = student[1][2]\n",
    "    mark_in_d = student[1][3]\n",
    "    student_marks_in_all.append([[name], [mark_in_a, mark_in_b, mark_in_c, mark_in_d]])"
   ]
  },
  {
   "cell_type": "code",
   "execution_count": 22,
   "metadata": {},
   "outputs": [
    {
     "data": {
      "text/plain": [
       "[[['Ankit'], [41, 34, 45, 55]],\n",
       " [['Aravind'], [42, 23, 34, 44]],\n",
       " [['Lakshay'], [32, 23, 13, 54]],\n",
       " [['Gyan'], [23, 82, 23, 63]],\n",
       " [['Pranav'], [21, 23, 25, 56]]]"
      ]
     },
     "execution_count": 22,
     "metadata": {},
     "output_type": "execute_result"
    }
   ],
   "source": [
    "#The top-4 subjects\n",
    "student_marks_in_all"
   ]
  },
  {
   "cell_type": "code",
   "execution_count": 23,
   "metadata": {},
   "outputs": [],
   "source": [
    "#applying the percentage formula to storing the value in a new list\n",
    "student_marks_in_per = []\n",
    "for studentper in student_marks_in_all[0:]:\n",
    "    name = studentper[0]\n",
    "    per = sum(studentper[1]) / 400*100\n",
    "    \n",
    "    student_marks_in_per.append([per,name])"
   ]
  },
  {
   "cell_type": "code",
   "execution_count": 24,
   "metadata": {},
   "outputs": [
    {
     "data": {
      "text/plain": [
       "[[30.5, ['Lakshay']],\n",
       " [31.25, ['Pranav']],\n",
       " [35.75, ['Aravind']],\n",
       " [43.75, ['Ankit']],\n",
       " [47.75, ['Gyan']]]"
      ]
     },
     "execution_count": 24,
     "metadata": {},
     "output_type": "execute_result"
    }
   ],
   "source": [
    "#the sorted list of percentage secured by the candidates in top-4 subjects\n",
    "sorted(student_marks_in_per)"
   ]
  },
  {
   "cell_type": "code",
   "execution_count": 25,
   "metadata": {},
   "outputs": [
    {
     "data": {
      "text/plain": [
       "['Gyan']"
      ]
     },
     "execution_count": 25,
     "metadata": {},
     "output_type": "execute_result"
    }
   ],
   "source": [
    "#name of the candidate who scored highest percentage of marks if we consider top-4 subjects\n",
    "sorted(student_marks_in_per)[-1][1]"
   ]
  },
  {
   "cell_type": "markdown",
   "metadata": {},
   "source": [
    "# Thank you..."
   ]
  },
  {
   "cell_type": "code",
   "execution_count": null,
   "metadata": {},
   "outputs": [],
   "source": []
  }
 ],
 "metadata": {
  "kernelspec": {
   "display_name": "Python 3",
   "language": "python",
   "name": "python3"
  },
  "language_info": {
   "codemirror_mode": {
    "name": "ipython",
    "version": 3
   },
   "file_extension": ".py",
   "mimetype": "text/x-python",
   "name": "python",
   "nbconvert_exporter": "python",
   "pygments_lexer": "ipython3",
   "version": "3.7.6"
  }
 },
 "nbformat": 4,
 "nbformat_minor": 4
}
